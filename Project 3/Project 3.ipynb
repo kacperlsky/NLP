{
  "metadata": {
    "language_info": {
      "codemirror_mode": {
        "name": "ipython",
        "version": 3
      },
      "file_extension": ".py",
      "mimetype": "text/x-python",
      "name": "python",
      "nbconvert_exporter": "python",
      "pygments_lexer": "ipython3",
      "version": "3.8.8"
    },
    "orig_nbformat": 2,
    "kernelspec": {
      "name": "python388jvsc74a57bd0551624c180fb1e1906f0fc66904446fd64c328981dff28526764f4400121f0c5",
      "display_name": "Python 3.8.8 64-bit ('pytorch_py38': conda)"
    },
    "metadata": {
      "interpreter": {
        "hash": "551624c180fb1e1906f0fc66904446fd64c328981dff28526764f4400121f0c5"
      }
    },
    "colab": {
      "name": "HMM (1).ipynb",
      "provenance": []
    }
  },
  "nbformat": 4,
  "nbformat_minor": 0,
  "cells": [
    {
      "source": [
        "# Introduction to Hidden Markov Models\n",
        "\n",
        "### Markov Chains\n",
        "\n",
        "\n",
        "\n",
        "### Hidden Markov Model\n",
        "\n",
        "\n",
        "\n",
        "\n",
        "\n"
      ],
      "cell_type": "markdown",
      "metadata": {
        "id": "96Su4NWKDSjT"
      }
    },
    {
      "cell_type": "code",
      "execution_count": null,
      "metadata": {
        "id": "m793qANNDSjd",
        "outputId": "3fcf946c-5f8e-4610-970f-8c2e141b225b"
      },
      "outputs": [
        {
          "output_type": "stream",
          "name": "stdout",
          "text": [
            "Simulated Observations:\n    Obs_code Obs_seq\n0         1     Hot\n1         1     Hot\n2         0    Cold\n3         1     Hot\n4         0    Cold\n5         0    Cold\n6         1     Hot\n7         0    Cold\n8         1     Hot\n9         1     Hot\n10        0    Cold\n11        0    Cold\n12        0    Cold\n13        1     Hot\n\n HMM matrix:\n          Snow  Rain Sunshine\nSnow      0.3   0.3      0.4\nRain      0.1  0.45     0.45\nSunshine  0.2   0.3      0.5\n\n Observable layer  matrix:\n          Cold  Hot\nSnow        1    0\nRain      0.8  0.2\nSunshine  0.3  0.7\n"
          ]
        }
      ],
      "source": [
        "import numpy as np\n",
        "import pandas as pd\n",
        "\n",
        "obs_map = {'Cold':0, 'Hot':1}\n",
        "obs = np.array([1,1,0,1,0,0,1,0,1,1,0,0,0,1])\n",
        "\n",
        "inv_obs_map = dict((v,k) for k, v in obs_map.items())\n",
        "obs_seq = [inv_obs_map[v] for v in list(obs)]\n",
        "\n",
        "print(\"Simulated Observations:\\n\",pd.DataFrame(np.column_stack([obs, obs_seq]),columns=['Obs_code', 'Obs_seq']) )\n",
        "\n",
        "pi = [0.6,0.4] # initial probabilities vector\n",
        "states = ['Cold', 'Hot']\n",
        "hidden_states = ['Snow', 'Rain', 'Sunshine']\n",
        "pi = [0, 0.2, 0.8]\n",
        "state_space = pd.Series(pi, index=hidden_states, name='states')\n",
        "a_df = pd.DataFrame(columns=hidden_states, index=hidden_states)\n",
        "a_df.loc[hidden_states[0]] = [0.3, 0.3, 0.4]\n",
        "a_df.loc[hidden_states[1]] = [0.1, 0.45, 0.45]\n",
        "a_df.loc[hidden_states[2]] = [0.2, 0.3, 0.5]\n",
        "print(\"\\n HMM matrix:\\n\", a_df)\n",
        "a = a_df.values\n",
        "\n",
        "observable_states = states\n",
        "b_df = pd.DataFrame(columns=observable_states, index=hidden_states)\n",
        "b_df.loc[hidden_states[0]] = [1,0]\n",
        "b_df.loc[hidden_states[1]] = [0.8,0.2]\n",
        "b_df.loc[hidden_states[2]] = [0.3,0.7]\n",
        "print(\"\\n Observable layer  matrix:\\n\",b_df)\n",
        "b = b_df.values"
      ]
    },
    {
      "source": [
        "### Finding Hidden States — Viterbi Algorithm\n",
        "Now let’s use the algorithm:"
      ],
      "cell_type": "markdown",
      "metadata": {
        "id": "a4i6n7tQDSji"
      }
    },
    {
      "cell_type": "code",
      "execution_count": null,
      "metadata": {
        "id": "fCZkRItADSjj"
      },
      "outputs": [],
      "source": [
        "def viterbi(pi, a, b, obs):\n",
        "    \n",
        "    nStates = np.shape(b)[0]\n",
        "    T = np.shape(obs)[0]\n",
        "    \n",
        "    # init blank path\n",
        "    path = path = np.zeros(T,dtype=int)\n",
        "    # delta --> highest probability of any path that reaches state i\n",
        "    delta = np.zeros((nStates, T))\n",
        "    # phi --> argmax by time step for each state\n",
        "    phi = np.zeros((nStates, T))\n",
        "    \n",
        "    # init delta and phi \n",
        "    delta[:, 0] = pi * b[:, obs[0]]\n",
        "    phi[:, 0] = 0\n",
        "\n",
        "    print('\\nStart Walk Forward\\n')    \n",
        "    # the forward algorithm extension\n",
        "    for t in range(1, T):\n",
        "        for s in range(nStates):\n",
        "            delta[s, t] = np.max(delta[:, t-1] * a[:, s]) * b[s, obs[t]] \n",
        "            phi[s, t] = np.argmax(delta[:, t-1] * a[:, s])\n",
        "            print('s={s} and t={t}: phi[{s}, {t}] = {phi}'.format(s=s, t=t, phi=phi[s, t]))\n",
        "    \n",
        "    # find optimal path\n",
        "    print('-'*50)\n",
        "    print('Start Backtrace\\n')\n",
        "    path[T-1] = np.argmax(delta[:, T-1])\n",
        "    for t in range(T-2, -1, -1):\n",
        "        path[t] = phi[path[t+1], [t+1]]\n",
        "        print('path[{}] = {}'.format(t, path[t]))\n",
        "        \n",
        "    return path, delta, phi"
      ]
    },
    {
      "cell_type": "code",
      "execution_count": null,
      "metadata": {
        "id": "QXCtLs9KDSjk",
        "outputId": "695f2085-02ff-4c78-d756-afc7b7f96edd"
      },
      "outputs": [
        {
          "output_type": "stream",
          "name": "stdout",
          "text": [
            "\nStart Walk Forward\n\ns=0 and t=1: phi[0, 1] = 2.0\ns=1 and t=1: phi[1, 1] = 2.0\ns=2 and t=1: phi[2, 1] = 2.0\ns=0 and t=2: phi[0, 2] = 2.0\ns=1 and t=2: phi[1, 2] = 2.0\ns=2 and t=2: phi[2, 2] = 2.0\ns=0 and t=3: phi[0, 3] = 0.0\ns=1 and t=3: phi[1, 3] = 1.0\ns=2 and t=3: phi[2, 3] = 1.0\ns=0 and t=4: phi[0, 4] = 2.0\ns=1 and t=4: phi[1, 4] = 2.0\ns=2 and t=4: phi[2, 4] = 2.0\ns=0 and t=5: phi[0, 5] = 0.0\ns=1 and t=5: phi[1, 5] = 1.0\ns=2 and t=5: phi[2, 5] = 1.0\ns=0 and t=6: phi[0, 6] = 0.0\ns=1 and t=6: phi[1, 6] = 1.0\ns=2 and t=6: phi[2, 6] = 1.0\ns=0 and t=7: phi[0, 7] = 2.0\ns=1 and t=7: phi[1, 7] = 2.0\ns=2 and t=7: phi[2, 7] = 2.0\ns=0 and t=8: phi[0, 8] = 0.0\ns=1 and t=8: phi[1, 8] = 1.0\ns=2 and t=8: phi[2, 8] = 1.0\ns=0 and t=9: phi[0, 9] = 2.0\ns=1 and t=9: phi[1, 9] = 2.0\ns=2 and t=9: phi[2, 9] = 2.0\ns=0 and t=10: phi[0, 10] = 2.0\ns=1 and t=10: phi[1, 10] = 2.0\ns=2 and t=10: phi[2, 10] = 2.0\ns=0 and t=11: phi[0, 11] = 0.0\ns=1 and t=11: phi[1, 11] = 1.0\ns=2 and t=11: phi[2, 11] = 1.0\ns=0 and t=12: phi[0, 12] = 0.0\ns=1 and t=12: phi[1, 12] = 1.0\ns=2 and t=12: phi[2, 12] = 1.0\ns=0 and t=13: phi[0, 13] = 0.0\ns=1 and t=13: phi[1, 13] = 1.0\ns=2 and t=13: phi[2, 13] = 1.0\n--------------------------------------------------\nStart Backtrace\n\npath[12] = 1\npath[11] = 1\npath[10] = 1\npath[9] = 2\npath[8] = 2\npath[7] = 1\npath[6] = 2\npath[5] = 1\npath[4] = 1\npath[3] = 2\npath[2] = 1\npath[1] = 2\npath[0] = 2\n"
          ]
        },
        {
          "output_type": "execute_result",
          "data": {
            "text/plain": [
              "   Observation Best_Path\n",
              "0          Hot  Sunshine\n",
              "1          Hot  Sunshine\n",
              "2         Cold      Rain\n",
              "3          Hot  Sunshine\n",
              "4         Cold      Rain\n",
              "5         Cold      Rain\n",
              "6          Hot  Sunshine\n",
              "7         Cold      Rain\n",
              "8          Hot  Sunshine\n",
              "9          Hot  Sunshine\n",
              "10        Cold      Rain\n",
              "11        Cold      Rain\n",
              "12        Cold      Rain\n",
              "13         Hot  Sunshine"
            ],
            "text/html": "<div>\n<style scoped>\n    .dataframe tbody tr th:only-of-type {\n        vertical-align: middle;\n    }\n\n    .dataframe tbody tr th {\n        vertical-align: top;\n    }\n\n    .dataframe thead th {\n        text-align: right;\n    }\n</style>\n<table border=\"1\" class=\"dataframe\">\n  <thead>\n    <tr style=\"text-align: right;\">\n      <th></th>\n      <th>Observation</th>\n      <th>Best_Path</th>\n    </tr>\n  </thead>\n  <tbody>\n    <tr>\n      <th>0</th>\n      <td>Hot</td>\n      <td>Sunshine</td>\n    </tr>\n    <tr>\n      <th>1</th>\n      <td>Hot</td>\n      <td>Sunshine</td>\n    </tr>\n    <tr>\n      <th>2</th>\n      <td>Cold</td>\n      <td>Rain</td>\n    </tr>\n    <tr>\n      <th>3</th>\n      <td>Hot</td>\n      <td>Sunshine</td>\n    </tr>\n    <tr>\n      <th>4</th>\n      <td>Cold</td>\n      <td>Rain</td>\n    </tr>\n    <tr>\n      <th>5</th>\n      <td>Cold</td>\n      <td>Rain</td>\n    </tr>\n    <tr>\n      <th>6</th>\n      <td>Hot</td>\n      <td>Sunshine</td>\n    </tr>\n    <tr>\n      <th>7</th>\n      <td>Cold</td>\n      <td>Rain</td>\n    </tr>\n    <tr>\n      <th>8</th>\n      <td>Hot</td>\n      <td>Sunshine</td>\n    </tr>\n    <tr>\n      <th>9</th>\n      <td>Hot</td>\n      <td>Sunshine</td>\n    </tr>\n    <tr>\n      <th>10</th>\n      <td>Cold</td>\n      <td>Rain</td>\n    </tr>\n    <tr>\n      <th>11</th>\n      <td>Cold</td>\n      <td>Rain</td>\n    </tr>\n    <tr>\n      <th>12</th>\n      <td>Cold</td>\n      <td>Rain</td>\n    </tr>\n    <tr>\n      <th>13</th>\n      <td>Hot</td>\n      <td>Sunshine</td>\n    </tr>\n  </tbody>\n</table>\n</div>"
          },
          "metadata": {},
          "execution_count": 4
        }
      ],
      "source": [
        "path, delta, phi = viterbi(pi, a, b, obs)\n",
        "state_map = {0:'Snow', 1:'Rain', 2:'Sunshine'}\n",
        "state_path = [state_map[v] for v in path]\n",
        "pd.DataFrame().assign(Observation=obs_seq).assign(Best_Path=state_path)"
      ]
    }
  ]
}